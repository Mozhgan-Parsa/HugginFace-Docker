{
 "cells": [
  {
   "cell_type": "code",
   "execution_count": 3,
   "metadata": {},
   "outputs": [
    {
     "data": {
      "text/plain": [
       "'POSITIVE'"
      ]
     },
     "execution_count": 3,
     "metadata": {},
     "output_type": "execute_result"
    }
   ],
   "source": [
    "import requests\n",
    "# Define the URL of the Flask server\n",
    "url = \"http://127.0.0.1:5000/sentiment\"\n",
    "\n",
    "# Define the text for sentiment analysis\n",
    "text_data = {\n",
    "    \"text\": \"I will be happy joining to Lemay.ai team!\"\n",
    "}\n",
    "response = requests.post(url,json=text_data)\n",
    "response.text"
   ]
  },
  {
   "cell_type": "code",
   "execution_count": 1,
   "metadata": {},
   "outputs": [
    {
     "name": "stdout",
     "output_type": "stream",
     "text": [
      "zsh:1: command not found: import\n"
     ]
    }
   ],
   "source": [
    "!import requests"
   ]
  }
 ],
 "metadata": {
  "kernelspec": {
   "display_name": "venvDoc",
   "language": "python",
   "name": "python3"
  },
  "language_info": {
   "codemirror_mode": {
    "name": "ipython",
    "version": 3
   },
   "file_extension": ".py",
   "mimetype": "text/x-python",
   "name": "python",
   "nbconvert_exporter": "python",
   "pygments_lexer": "ipython3",
   "version": "3.9.13"
  }
 },
 "nbformat": 4,
 "nbformat_minor": 2
}
